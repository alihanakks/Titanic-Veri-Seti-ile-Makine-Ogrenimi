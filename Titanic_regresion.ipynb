{
 "cells": [
  {
   "cell_type": "markdown",
   "metadata": {
    "id": "dzBBA-KFoxF9"
   },
   "source": [
    "# Kaggel Titanic: Felaketten Makine Öğrenmesi"
   ]
  },
  {
   "cell_type": "markdown",
   "metadata": {
    "id": "e32VFRrJow32"
   },
   "source": [
    "Bu proje kaggle'dan alınmış olan veri seti ile yapılmış olan bir makine öğrenmesi projesidir.\n",
    "\n",
    "Okuyanlara teşekkürlerimi iletiyorum\n",
    "\n",
    "saygılarımla Alihan AKKUŞ"
   ]
  },
  {
   "cell_type": "markdown",
   "metadata": {
    "id": "Li6NZ-suegQu"
   },
   "source": [
    "#Veri Düzenleme"
   ]
  },
  {
   "cell_type": "markdown",
   "metadata": {
    "id": "3Gx3_FFlez-Z"
   },
   "source": [
    "## Veri Yükleme ve Hazırlık"
   ]
  },
  {
   "cell_type": "code",
   "execution_count": 1,
   "metadata": {
    "colab": {
     "base_uri": "https://localhost:8080/"
    },
    "executionInfo": {
     "elapsed": 28076,
     "status": "ok",
     "timestamp": 1748701131321,
     "user": {
      "displayName": "Alihan Akkus",
      "userId": "17021158369776552054"
     },
     "user_tz": -180
    },
    "id": "IHVAw0N6lfWu",
    "outputId": "5984b2fa-f5a7-40b6-cc20-8b2c2a1a9e15"
   },
   "outputs": [
    {
     "name": "stdout",
     "output_type": "stream",
     "text": [
      "Mounted at /content/drive\n"
     ]
    }
   ],
   "source": [
    "#Google drive Bağlantısı için\n",
    "from google.colab import drive\n",
    "drive.mount('/content/drive')"
   ]
  },
  {
   "cell_type": "markdown",
   "metadata": {
    "id": "UIAUUuxGpgMn"
   },
   "source": [
    "### Kütüphanelerin içeri aktarımı"
   ]
  },
  {
   "cell_type": "code",
   "execution_count": 2,
   "metadata": {
    "executionInfo": {
     "elapsed": 4029,
     "status": "ok",
     "timestamp": 1748701135347,
     "user": {
      "displayName": "Alihan Akkus",
      "userId": "17021158369776552054"
     },
     "user_tz": -180
    },
    "id": "T_Q9p1xpQS2R"
   },
   "outputs": [],
   "source": [
    "import pandas as pd\n",
    "import numpy as np\n",
    "import matplotlib.pyplot as plt\n",
    "import seaborn as sns\n",
    "from sklearn.preprocessing import LabelEncoder\n",
    "from sklearn.model_selection import GridSearchCV"
   ]
  },
  {
   "cell_type": "markdown",
   "metadata": {
    "id": "fXIb_7ger2LO"
   },
   "source": [
    "##Veri Anlama ve Görselleştirme"
   ]
  },
  {
   "cell_type": "markdown",
   "metadata": {
    "id": "4MseygY4e35z"
   },
   "source": [
    "###Veri okuma"
   ]
  },
  {
   "cell_type": "code",
   "execution_count": 3,
   "metadata": {
    "executionInfo": {
     "elapsed": 1004,
     "status": "ok",
     "timestamp": 1748701136350,
     "user": {
      "displayName": "Alihan Akkus",
      "userId": "17021158369776552054"
     },
     "user_tz": -180
    },
    "id": "7BYYJICtQSyg"
   },
   "outputs": [],
   "source": [
    "df_Train=pd.read_csv('/content/drive/MyDrive/Colab Notebooks/Titanic_Regresion/Data/train.csv')\n",
    "df_Test=pd.read_csv('/content/drive/MyDrive/Colab Notebooks/Titanic_Regresion/Data/test.csv')"
   ]
  },
  {
   "cell_type": "markdown",
   "metadata": {
    "id": "wcRbtGXUsWOO"
   },
   "source": [
    "###Bilgi"
   ]
  },
  {
   "cell_type": "code",
   "execution_count": 4,
   "metadata": {
    "colab": {
     "base_uri": "https://localhost:8080/"
    },
    "collapsed": true,
    "executionInfo": {
     "elapsed": 34,
     "status": "ok",
     "timestamp": 1748701136387,
     "user": {
      "displayName": "Alihan Akkus",
      "userId": "17021158369776552054"
     },
     "user_tz": -180
    },
    "id": "RTflS5HpQSvX",
    "outputId": "66c73cf9-6f6d-4c09-f51d-facd8404f364"
   },
   "outputs": [
    {
     "name": "stdout",
     "output_type": "stream",
     "text": [
      "   PassengerId  Pclass                                          Name     Sex  \\\n",
      "0          892       3                              Kelly, Mr. James    male   \n",
      "1          893       3              Wilkes, Mrs. James (Ellen Needs)  female   \n",
      "2          894       2                     Myles, Mr. Thomas Francis    male   \n",
      "3          895       3                              Wirz, Mr. Albert    male   \n",
      "4          896       3  Hirvonen, Mrs. Alexander (Helga E Lindqvist)  female   \n",
      "\n",
      "    Age  SibSp  Parch   Ticket     Fare Cabin Embarked  \n",
      "0  34.5      0      0   330911   7.8292   NaN        Q  \n",
      "1  47.0      1      0   363272   7.0000   NaN        S  \n",
      "2  62.0      0      0   240276   9.6875   NaN        Q  \n",
      "3  27.0      0      0   315154   8.6625   NaN        S  \n",
      "4  22.0      1      1  3101298  12.2875   NaN        S  \n",
      "   PassengerId  Survived  Pclass  \\\n",
      "0            1         0       3   \n",
      "1            2         1       1   \n",
      "2            3         1       3   \n",
      "3            4         1       1   \n",
      "4            5         0       3   \n",
      "\n",
      "                                                Name     Sex   Age  SibSp  \\\n",
      "0                            Braund, Mr. Owen Harris    male  22.0      1   \n",
      "1  Cumings, Mrs. John Bradley (Florence Briggs Th...  female  38.0      1   \n",
      "2                             Heikkinen, Miss. Laina  female  26.0      0   \n",
      "3       Futrelle, Mrs. Jacques Heath (Lily May Peel)  female  35.0      1   \n",
      "4                           Allen, Mr. William Henry    male  35.0      0   \n",
      "\n",
      "   Parch            Ticket     Fare Cabin Embarked  \n",
      "0      0         A/5 21171   7.2500   NaN        S  \n",
      "1      0          PC 17599  71.2833   C85        C  \n",
      "2      0  STON/O2. 3101282   7.9250   NaN        S  \n",
      "3      0            113803  53.1000  C123        S  \n",
      "4      0            373450   8.0500   NaN        S  \n"
     ]
    }
   ],
   "source": [
    "print(df_Test.head())\n",
    "print(df_Train.head())"
   ]
  },
  {
   "cell_type": "code",
   "execution_count": 5,
   "metadata": {
    "colab": {
     "base_uri": "https://localhost:8080/"
    },
    "collapsed": true,
    "executionInfo": {
     "elapsed": 21,
     "status": "ok",
     "timestamp": 1748701136410,
     "user": {
      "displayName": "Alihan Akkus",
      "userId": "17021158369776552054"
     },
     "user_tz": -180
    },
    "id": "Wk9-m7NEtBPM",
    "outputId": "1984effc-de1d-47d0-ad43-ed827d966136"
   },
   "outputs": [
    {
     "name": "stdout",
     "output_type": "stream",
     "text": [
      "<class 'pandas.core.frame.DataFrame'>\n",
      "RangeIndex: 418 entries, 0 to 417\n",
      "Data columns (total 11 columns):\n",
      " #   Column       Non-Null Count  Dtype  \n",
      "---  ------       --------------  -----  \n",
      " 0   PassengerId  418 non-null    int64  \n",
      " 1   Pclass       418 non-null    int64  \n",
      " 2   Name         418 non-null    object \n",
      " 3   Sex          418 non-null    object \n",
      " 4   Age          332 non-null    float64\n",
      " 5   SibSp        418 non-null    int64  \n",
      " 6   Parch        418 non-null    int64  \n",
      " 7   Ticket       418 non-null    object \n",
      " 8   Fare         417 non-null    float64\n",
      " 9   Cabin        91 non-null     object \n",
      " 10  Embarked     418 non-null    object \n",
      "dtypes: float64(2), int64(4), object(5)\n",
      "memory usage: 36.1+ KB\n",
      "<class 'pandas.core.frame.DataFrame'>\n",
      "RangeIndex: 891 entries, 0 to 890\n",
      "Data columns (total 12 columns):\n",
      " #   Column       Non-Null Count  Dtype  \n",
      "---  ------       --------------  -----  \n",
      " 0   PassengerId  891 non-null    int64  \n",
      " 1   Survived     891 non-null    int64  \n",
      " 2   Pclass       891 non-null    int64  \n",
      " 3   Name         891 non-null    object \n",
      " 4   Sex          891 non-null    object \n",
      " 5   Age          714 non-null    float64\n",
      " 6   SibSp        891 non-null    int64  \n",
      " 7   Parch        891 non-null    int64  \n",
      " 8   Ticket       891 non-null    object \n",
      " 9   Fare         891 non-null    float64\n",
      " 10  Cabin        204 non-null    object \n",
      " 11  Embarked     889 non-null    object \n",
      "dtypes: float64(2), int64(5), object(5)\n",
      "memory usage: 83.7+ KB\n"
     ]
    }
   ],
   "source": [
    "df_Test.info()\n",
    "df_Train.info()"
   ]
  },
  {
   "cell_type": "code",
   "execution_count": 6,
   "metadata": {
    "colab": {
     "base_uri": "https://localhost:8080/"
    },
    "collapsed": true,
    "executionInfo": {
     "elapsed": 46,
     "status": "ok",
     "timestamp": 1748701136458,
     "user": {
      "displayName": "Alihan Akkus",
      "userId": "17021158369776552054"
     },
     "user_tz": -180
    },
    "id": "ohLowHeksg7l",
    "outputId": "385f1ac4-4233-4b27-aa42-7e6ce52007cc"
   },
   "outputs": [
    {
     "name": "stdout",
     "output_type": "stream",
     "text": [
      "       PassengerId      Pclass         Age       SibSp       Parch        Fare\n",
      "count   418.000000  418.000000  332.000000  418.000000  418.000000  417.000000\n",
      "mean   1100.500000    2.265550   30.272590    0.447368    0.392344   35.627188\n",
      "std     120.810458    0.841838   14.181209    0.896760    0.981429   55.907576\n",
      "min     892.000000    1.000000    0.170000    0.000000    0.000000    0.000000\n",
      "25%     996.250000    1.000000   21.000000    0.000000    0.000000    7.895800\n",
      "50%    1100.500000    3.000000   27.000000    0.000000    0.000000   14.454200\n",
      "75%    1204.750000    3.000000   39.000000    1.000000    0.000000   31.500000\n",
      "max    1309.000000    3.000000   76.000000    8.000000    9.000000  512.329200\n",
      "       PassengerId    Survived      Pclass         Age       SibSp  \\\n",
      "count   891.000000  891.000000  891.000000  714.000000  891.000000   \n",
      "mean    446.000000    0.383838    2.308642   29.699118    0.523008   \n",
      "std     257.353842    0.486592    0.836071   14.526497    1.102743   \n",
      "min       1.000000    0.000000    1.000000    0.420000    0.000000   \n",
      "25%     223.500000    0.000000    2.000000   20.125000    0.000000   \n",
      "50%     446.000000    0.000000    3.000000   28.000000    0.000000   \n",
      "75%     668.500000    1.000000    3.000000   38.000000    1.000000   \n",
      "max     891.000000    1.000000    3.000000   80.000000    8.000000   \n",
      "\n",
      "            Parch        Fare  \n",
      "count  891.000000  891.000000  \n",
      "mean     0.381594   32.204208  \n",
      "std      0.806057   49.693429  \n",
      "min      0.000000    0.000000  \n",
      "25%      0.000000    7.910400  \n",
      "50%      0.000000   14.454200  \n",
      "75%      0.000000   31.000000  \n",
      "max      6.000000  512.329200  \n"
     ]
    }
   ],
   "source": [
    "print(df_Test.describe())\n",
    "print(df_Train.describe())"
   ]
  },
  {
   "cell_type": "markdown",
   "metadata": {
    "id": "_--2QCRRuoDt"
   },
   "source": [
    "###Temel İstatistikler"
   ]
  },
  {
   "cell_type": "code",
   "execution_count": 7,
   "metadata": {
    "executionInfo": {
     "elapsed": 45,
     "status": "ok",
     "timestamp": 1748701136506,
     "user": {
      "displayName": "Alihan Akkus",
      "userId": "17021158369776552054"
     },
     "user_tz": -180
    },
    "id": "JDc1TM-FtcTZ"
   },
   "outputs": [],
   "source": [
    "df_train_Gruop=df_Train.select_dtypes(include=['object','category'])\n",
    "df_test_Gruop=df_Test.select_dtypes(include=['object','category'])\n",
    "df_train_Number=df_Train.select_dtypes(include=['int64','float64'])\n",
    "df_test_Number=df_Test.select_dtypes(include=['int64','float64'])\n",
    "\n",
    "df_train_Gruop[['Survived','Pclass']] = df_train_Number[['Survived','Pclass']]\n",
    "df_test_Gruop[['Pclass']] = df_test_Number[['Pclass']]\n",
    "\n",
    "df_train_Number.drop(['Survived','Pclass'],axis=1,inplace=True)\n",
    "df_test_Number.drop(['Pclass'],axis=1,inplace=True)\n",
    "\n",
    "df_train_Gruop.drop('Name', axis=1, inplace=True)\n",
    "df_test_Gruop.drop('Name', axis=1, inplace=True)"
   ]
  },
  {
   "cell_type": "code",
   "execution_count": 8,
   "metadata": {
    "colab": {
     "base_uri": "https://localhost:8080/"
    },
    "collapsed": true,
    "executionInfo": {
     "elapsed": 16,
     "status": "ok",
     "timestamp": 1748701136517,
     "user": {
      "displayName": "Alihan Akkus",
      "userId": "17021158369776552054"
     },
     "user_tz": -180
    },
    "id": "zBKIJ3aqsg4_",
    "outputId": "63e5c70a-0b09-43ea-a62b-93a05a7edf2b"
   },
   "outputs": [
    {
     "name": "stdout",
     "output_type": "stream",
     "text": [
      "       PassengerId         Age       SibSp       Parch        Fare\n",
      "count   891.000000  714.000000  891.000000  891.000000  891.000000\n",
      "mean    446.000000   29.699118    0.523008    0.381594   32.204208\n",
      "std     257.353842   14.526497    1.102743    0.806057   49.693429\n",
      "min       1.000000    0.420000    0.000000    0.000000    0.000000\n",
      "25%     223.500000   20.125000    0.000000    0.000000    7.910400\n",
      "50%     446.000000   28.000000    0.000000    0.000000   14.454200\n",
      "75%     668.500000   38.000000    1.000000    0.000000   31.000000\n",
      "max     891.000000   80.000000    8.000000    6.000000  512.329200\n",
      "       PassengerId         Age       SibSp       Parch        Fare\n",
      "count   418.000000  332.000000  418.000000  418.000000  417.000000\n",
      "mean   1100.500000   30.272590    0.447368    0.392344   35.627188\n",
      "std     120.810458   14.181209    0.896760    0.981429   55.907576\n",
      "min     892.000000    0.170000    0.000000    0.000000    0.000000\n",
      "25%     996.250000   21.000000    0.000000    0.000000    7.895800\n",
      "50%    1100.500000   27.000000    0.000000    0.000000   14.454200\n",
      "75%    1204.750000   39.000000    1.000000    0.000000   31.500000\n",
      "max    1309.000000   76.000000    8.000000    9.000000  512.329200\n"
     ]
    }
   ],
   "source": [
    "print(df_train_Number.describe())\n",
    "print(df_test_Number.describe())"
   ]
  },
  {
   "cell_type": "code",
   "execution_count": 9,
   "metadata": {
    "colab": {
     "base_uri": "https://localhost:8080/",
     "height": 0
    },
    "collapsed": true,
    "executionInfo": {
     "elapsed": 1034,
     "status": "ok",
     "timestamp": 1748701137552,
     "user": {
      "displayName": "Alihan Akkus",
      "userId": "17021158369776552054"
     },
     "user_tz": -180
    },
    "id": "a1Z3DwwzYtxB",
    "outputId": "57f5ee70-78f0-44ab-b66c-8ceecacc6546"
   },
   "outputs": [
    {
     "data": {
      "image/png": "[encoded data removed]",
      "text/plain": [
       "<Figure size 1200x800 with 4 Axes>"
      ]
     },
     "metadata": {},
     "output_type": "display_data"
    }
   ],
   "source": [
    "plt.figure(figsize=(12, 8))\n",
    "cols = [col for col in df_train_Number.columns if col != 'PassengerId']\n",
    "\n",
    "for i, col in enumerate(cols):\n",
    "    plt.subplot(2, 2, i + 1)  # 2x2 grid, i+1. grafiği\n",
    "    plt.hist(df_train_Number[col].dropna(), bins=30, color='skyblue', edgecolor='black')\n",
    "    plt.title(f'{col.capitalize()} Distribution')\n",
    "    plt.xlabel(col)\n",
    "    plt.ylabel('Frequency')\n",
    "\n",
    "plt.tight_layout()\n",
    "plt.show()\n"
   ]
  },
  {
   "cell_type": "code",
   "execution_count": 10,
   "metadata": {
    "colab": {
     "base_uri": "https://localhost:8080/"
    },
    "collapsed": true,
    "executionInfo": {
     "elapsed": 20,
     "status": "ok",
     "timestamp": 1748701137554,
     "user": {
      "displayName": "Alihan Akkus",
      "userId": "17021158369776552054"
     },
     "user_tz": -180
    },
    "id": "nPNCH8G_sg2E",
    "outputId": "05fff2a0-906e-415d-befc-420f9458b7ba"
   },
   "outputs": [
    {
     "name": "stdout",
     "output_type": "stream",
     "text": [
      "\n",
      "SEX frekans dağılımı:\n",
      "Sex\n",
      "male      577\n",
      "female    314\n",
      "Name: count, dtype: int64\n",
      "\n",
      "Oranlar (%):\n",
      "Sex\n",
      "male      64.758698\n",
      "female    35.241302\n",
      "Name: proportion, dtype: float64\n",
      "\n",
      "TICKET frekans dağılımı:\n",
      "Ticket\n",
      "347082              7\n",
      "1601                7\n",
      "CA. 2343            7\n",
      "3101295             6\n",
      "CA 2144             6\n",
      "                   ..\n",
      "PC 17590            1\n",
      "17463               1\n",
      "330877              1\n",
      "373450              1\n",
      "STON/O2. 3101282    1\n",
      "Name: count, Length: 681, dtype: int64\n",
      "\n",
      "Oranlar (%):\n",
      "Ticket\n",
      "347082              0.785634\n",
      "1601                0.785634\n",
      "CA. 2343            0.785634\n",
      "3101295             0.673401\n",
      "CA 2144             0.673401\n",
      "                      ...   \n",
      "PC 17590            0.112233\n",
      "17463               0.112233\n",
      "330877              0.112233\n",
      "373450              0.112233\n",
      "STON/O2. 3101282    0.112233\n",
      "Name: proportion, Length: 681, dtype: float64\n",
      "\n",
      "CABIN frekans dağılımı:\n",
      "Cabin\n",
      "G6             4\n",
      "C23 C25 C27    4\n",
      "B96 B98        4\n",
      "F2             3\n",
      "D              3\n",
      "              ..\n",
      "E17            1\n",
      "A24            1\n",
      "C50            1\n",
      "B42            1\n",
      "C148           1\n",
      "Name: count, Length: 147, dtype: int64\n",
      "\n",
      "Oranlar (%):\n",
      "Cabin\n",
      "G6             1.960784\n",
      "C23 C25 C27    1.960784\n",
      "B96 B98        1.960784\n",
      "F2             1.470588\n",
      "D              1.470588\n",
      "                 ...   \n",
      "E17            0.490196\n",
      "A24            0.490196\n",
      "C50            0.490196\n",
      "B42            0.490196\n",
      "C148           0.490196\n",
      "Name: proportion, Length: 147, dtype: float64\n",
      "\n",
      "EMBARKED frekans dağılımı:\n",
      "Embarked\n",
      "S    644\n",
      "C    168\n",
      "Q     77\n",
      "Name: count, dtype: int64\n",
      "\n",
      "Oranlar (%):\n",
      "Embarked\n",
      "S    72.440945\n",
      "C    18.897638\n",
      "Q     8.661417\n",
      "Name: proportion, dtype: float64\n",
      "\n",
      "SURVIVED frekans dağılımı:\n",
      "Survived\n",
      "0    549\n",
      "1    342\n",
      "Name: count, dtype: int64\n",
      "\n",
      "Oranlar (%):\n",
      "Survived\n",
      "0    61.616162\n",
      "1    38.383838\n",
      "Name: proportion, dtype: float64\n",
      "\n",
      "PCLASS frekans dağılımı:\n",
      "Pclass\n",
      "3    491\n",
      "1    216\n",
      "2    184\n",
      "Name: count, dtype: int64\n",
      "\n",
      "Oranlar (%):\n",
      "Pclass\n",
      "3    55.106622\n",
      "1    24.242424\n",
      "2    20.650954\n",
      "Name: proportion, dtype: float64\n"
     ]
    }
   ],
   "source": [
    "cols = [col for col in df_train_Gruop.columns if col != 'PassengerId']\n",
    "\n",
    "for col in cols:\n",
    "    print(f\"\\n{col.upper()} frekans dağılımı:\")\n",
    "    print(df_train_Gruop[col].value_counts())\n",
    "    print(\"\\nOranlar (%):\")\n",
    "    print(df_train_Gruop[col].value_counts(normalize=True) * 100)"
   ]
  },
  {
   "cell_type": "code",
   "execution_count": 11,
   "metadata": {
    "colab": {
     "base_uri": "https://localhost:8080/"
    },
    "collapsed": true,
    "executionInfo": {
     "elapsed": 13,
     "status": "ok",
     "timestamp": 1748701137560,
     "user": {
      "displayName": "Alihan Akkus",
      "userId": "17021158369776552054"
     },
     "user_tz": -180
    },
    "id": "KeM1bHfpQSsu",
    "outputId": "98e65c09-9ee9-4131-988b-36f66780ecf9"
   },
   "outputs": [
    {
     "name": "stdout",
     "output_type": "stream",
     "text": [
      "Sex\n",
      "female    0.742038\n",
      "male      0.188908\n",
      "Name: Survived, dtype: float64\n",
      "Pclass\n",
      "1    0.629630\n",
      "2    0.472826\n",
      "3    0.242363\n",
      "Name: Survived, dtype: float64\n",
      "Embarked\n",
      "C    0.553571\n",
      "Q    0.389610\n",
      "S    0.336957\n",
      "Name: Survived, dtype: float64\n"
     ]
    }
   ],
   "source": [
    "print(df_train_Gruop.groupby('Sex')['Survived'].mean())\n",
    "print(df_train_Gruop.groupby('Pclass')['Survived'].mean())\n",
    "print(df_train_Gruop.groupby('Embarked')['Survived'].mean())\n"
   ]
  },
  {
   "cell_type": "markdown",
   "metadata": {
    "id": "Mkbq3IFZdaWS"
   },
   "source": [
    "##Veri Hazırlama"
   ]
  },
  {
   "cell_type": "markdown",
   "metadata": {
    "id": "kkzFv-Q3rnds"
   },
   "source": [
    "### Boş değerli silme veya doldurma işlemleri"
   ]
  },
  {
   "cell_type": "code",
   "execution_count": 12,
   "metadata": {
    "executionInfo": {
     "elapsed": 3,
     "status": "ok",
     "timestamp": 1748701137564,
     "user": {
      "displayName": "Alihan Akkus",
      "userId": "17021158369776552054"
     },
     "user_tz": -180
    },
    "id": "baql6gE4ifbU"
   },
   "outputs": [],
   "source": [
    "df_train_last = pd.concat([df_train_Number,df_train_Gruop], axis=1)\n",
    "df_test_last = pd.concat([df_test_Number,df_test_Gruop], axis=1)"
   ]
  },
  {
   "cell_type": "code",
   "execution_count": 13,
   "metadata": {
    "colab": {
     "base_uri": "https://localhost:8080/"
    },
    "collapsed": true,
    "executionInfo": {
     "elapsed": 11,
     "status": "ok",
     "timestamp": 1748701137577,
     "user": {
      "displayName": "Alihan Akkus",
      "userId": "17021158369776552054"
     },
     "user_tz": -180
    },
    "id": "2fS8RrvnjiH9",
    "outputId": "668d0c3e-2641-43e3-d886-45332a3b3a25"
   },
   "outputs": [
    {
     "name": "stdout",
     "output_type": "stream",
     "text": [
      "PassengerId      0\n",
      "Age            177\n",
      "SibSp            0\n",
      "Parch            0\n",
      "Fare             0\n",
      "Sex              0\n",
      "Ticket           0\n",
      "Cabin          687\n",
      "Embarked         2\n",
      "Survived         0\n",
      "Pclass           0\n",
      "dtype: int64\n",
      "PassengerId      0\n",
      "Age             86\n",
      "SibSp            0\n",
      "Parch            0\n",
      "Fare             1\n",
      "Sex              0\n",
      "Ticket           0\n",
      "Cabin          327\n",
      "Embarked         0\n",
      "Pclass           0\n",
      "dtype: int64\n"
     ]
    }
   ],
   "source": [
    "# Ilk Null kontrolü\n",
    "print(df_train_last.isnull().sum())\n",
    "print(df_test_last.isnull().sum())"
   ]
  },
  {
   "cell_type": "code",
   "execution_count": 14,
   "metadata": {
    "collapsed": true,
    "executionInfo": {
     "elapsed": 5,
     "status": "ok",
     "timestamp": 1748701137585,
     "user": {
      "displayName": "Alihan Akkus",
      "userId": "17021158369776552054"
     },
     "user_tz": -180
    },
    "id": "NGy6VXlxsf11"
   },
   "outputs": [],
   "source": [
    "# modele çok etkisi olmayan değerleri veriden atıyoruz\n",
    "df_train_last.dropna(subset=['Embarked'], inplace=True)\n",
    "df_test_last.dropna(subset=['Fare'], inplace=True)\n",
    "\n",
    "# Eksik yaş değerlerini gruplama yaparak median değerleri ile doldurma\n",
    "df_train_last['Age'] = df_train_last.groupby(['Pclass', 'Sex'])['Age'].transform(lambda x: x.fillna(x.median()))\n",
    "df_test_last['Age'] = df_test_last.groupby(['Pclass', 'Sex'])['Age'].transform(lambda x: x.fillna(x.median()))\n",
    "\n",
    "# Cabin sutünunu n değerlerini büyük N ile değiştirme\n",
    "df_train_last['Cabin'] = df_train_last['Cabin'].astype(str).str[0].replace('n', 'N')\n",
    "df_test_last['Cabin'] = df_test_last['Cabin'].astype(str).str[0].replace('n', 'N')"
   ]
  },
  {
   "cell_type": "code",
   "execution_count": 15,
   "metadata": {
    "colab": {
     "base_uri": "https://localhost:8080/"
    },
    "executionInfo": {
     "elapsed": 14,
     "status": "ok",
     "timestamp": 1748701137597,
     "user": {
      "displayName": "Alihan Akkus",
      "userId": "17021158369776552054"
     },
     "user_tz": -180
    },
    "id": "0uXZqeXpqDhj",
    "outputId": "1c31810d-0256-485e-adc2-1b7e0bcf62a0"
   },
   "outputs": [
    {
     "name": "stdout",
     "output_type": "stream",
     "text": [
      "PassengerId    0\n",
      "Age            0\n",
      "SibSp          0\n",
      "Parch          0\n",
      "Fare           0\n",
      "Sex            0\n",
      "Ticket         0\n",
      "Cabin          0\n",
      "Embarked       0\n",
      "Survived       0\n",
      "Pclass         0\n",
      "dtype: int64\n",
      "PassengerId    0\n",
      "Age            0\n",
      "SibSp          0\n",
      "Parch          0\n",
      "Fare           0\n",
      "Sex            0\n",
      "Ticket         0\n",
      "Cabin          0\n",
      "Embarked       0\n",
      "Pclass         0\n",
      "dtype: int64\n"
     ]
    }
   ],
   "source": [
    "# Son Null kontrolü\n",
    "print(df_train_last.isnull().sum())\n",
    "print(df_test_last.isnull().sum())"
   ]
  },
  {
   "cell_type": "code",
   "execution_count": 16,
   "metadata": {
    "executionInfo": {
     "elapsed": 2,
     "status": "ok",
     "timestamp": 1748701137601,
     "user": {
      "displayName": "Alihan Akkus",
      "userId": "17021158369776552054"
     },
     "user_tz": -180
    },
    "id": "-Vo9lzk6hT0m"
   },
   "outputs": [],
   "source": [
    "#Bu rada tahmin ettikten sonra hangi yolcunun hayatta kaldığını öğrenmek için PassengerId derğelerini alıyoruz ve\n",
    "# eğitimin sonda kaggle verdiği test verisi ile tahmin ettirdikten sonra bu bilgi birleştime işlemi yapacağız\n",
    "passenger_ids = df_test_last['PassengerId']"
   ]
  },
  {
   "cell_type": "markdown",
   "metadata": {
    "id": "n5NUWRBBrfY9"
   },
   "source": [
    "### Özellik Gruplama & Dönüştürme"
   ]
  },
  {
   "cell_type": "code",
   "execution_count": 17,
   "metadata": {
    "colab": {
     "base_uri": "https://localhost:8080/"
    },
    "collapsed": true,
    "executionInfo": {
     "elapsed": 10,
     "status": "ok",
     "timestamp": 1748701137612,
     "user": {
      "displayName": "Alihan Akkus",
      "userId": "17021158369776552054"
     },
     "user_tz": -180
    },
    "id": "G7-gpm-Y01pT",
    "outputId": "4e61eb46-7ccb-481a-c01d-9512c6d05ee6"
   },
   "outputs": [
    {
     "name": "stdout",
     "output_type": "stream",
     "text": [
      "   SibSp  Parch     Fare  Sex  Survived  Pclass  Embarked_Q  Embarked_S  \\\n",
      "0      1      0   7.2500    1         0       3       False        True   \n",
      "1      1      0  71.2833    0         1       1       False       False   \n",
      "2      0      0   7.9250    0         1       3       False        True   \n",
      "3      1      0  53.1000    0         1       1       False        True   \n",
      "4      0      0   8.0500    1         0       3       False        True   \n",
      "\n",
      "   Cabin_B  Cabin_C  ...  Cabin_G  Cabin_N  Cabin_T  Age_group_13-18  \\\n",
      "0    False    False  ...    False     True    False            False   \n",
      "1    False     True  ...    False    False    False            False   \n",
      "2    False    False  ...    False     True    False            False   \n",
      "3    False     True  ...    False    False    False            False   \n",
      "4    False    False  ...    False     True    False            False   \n",
      "\n",
      "   Age_group_19-25  Age_group_26-35  Age_group_36-45  Age_group_46-55  \\\n",
      "0             True            False            False            False   \n",
      "1            False            False             True            False   \n",
      "2            False             True            False            False   \n",
      "3            False            False             True            False   \n",
      "4            False            False             True            False   \n",
      "\n",
      "   Age_group_56-65  Age_group_66+  \n",
      "0            False          False  \n",
      "1            False          False  \n",
      "2            False          False  \n",
      "3            False          False  \n",
      "4            False          False  \n",
      "\n",
      "[5 rows x 23 columns]\n",
      "   SibSp  Parch     Fare  Sex  Pclass  Embarked_Q  Embarked_S  Cabin_B  \\\n",
      "0      0      0   7.8292    1       3        True       False    False   \n",
      "1      1      0   7.0000    0       3       False        True    False   \n",
      "2      0      0   9.6875    1       2        True       False    False   \n",
      "3      0      0   8.6625    1       3       False        True    False   \n",
      "4      1      1  12.2875    0       3       False        True    False   \n",
      "\n",
      "   Cabin_C  Cabin_D  ...  Cabin_F  Cabin_G  Cabin_N  Age_group_13-18  \\\n",
      "0    False    False  ...    False    False     True            False   \n",
      "1    False    False  ...    False    False     True            False   \n",
      "2    False    False  ...    False    False     True            False   \n",
      "3    False    False  ...    False    False     True            False   \n",
      "4    False    False  ...    False    False     True            False   \n",
      "\n",
      "   Age_group_19-25  Age_group_26-35  Age_group_36-45  Age_group_46-55  \\\n",
      "0            False             True            False            False   \n",
      "1            False            False            False             True   \n",
      "2            False            False            False            False   \n",
      "3            False             True            False            False   \n",
      "4             True            False            False            False   \n",
      "\n",
      "   Age_group_56-65  Age_group_66+  \n",
      "0            False          False  \n",
      "1            False          False  \n",
      "2             True          False  \n",
      "3            False          False  \n",
      "4            False          False  \n",
      "\n",
      "[5 rows x 21 columns]\n"
     ]
    }
   ],
   "source": [
    "Aralık = [0, 12, 18, 25, 35, 45, 55, 65, 100]\n",
    "Etiketler = ['0-12', '13-18', '19-25', '26-35', '36-45', '46-55', '56-65', '66+']\n",
    "# Yaşı gruplama\n",
    "df_train_last['Age_group'] = pd.cut(df_train_last['Age'], bins=Aralık, labels=Etiketler, right=False)\n",
    "df_test_last['Age_group'] = pd.cut(df_test_last['Age'], bins=Aralık, labels=Etiketler, right=False)\n",
    "\n",
    "# Sex için Label Encoding\n",
    "sex_encoder = LabelEncoder()\n",
    "df_train_last['Sex'] = sex_encoder.fit_transform(df_train_last['Sex'])\n",
    "df_test_last['Sex'] = sex_encoder.transform(df_test_last['Sex'])\n",
    "\n",
    "#One-Hot Encoding\n",
    "df_train_last = pd.get_dummies(df_train_last, columns=['Embarked'], drop_first=True)\n",
    "df_test_last = pd.get_dummies(df_test_last, columns=['Embarked'], drop_first=True)\n",
    "\n",
    "df_train_last = pd.get_dummies(df_train_last, columns=['Cabin'], drop_first=True)\n",
    "df_test_last = pd.get_dummies(df_test_last, columns=['Cabin'], drop_first=True)\n",
    "\n",
    "df_train_last = pd.get_dummies(df_train_last, columns=['Age_group'], drop_first=True)\n",
    "df_test_last = pd.get_dummies(df_test_last, columns=['Age_group'], drop_first=True)\n",
    "\n",
    "df_train_last.drop(['Ticket','PassengerId','Age'], axis=1, inplace=True)\n",
    "df_test_last.drop(['Ticket','PassengerId','Age'], axis=1, inplace=True)\n",
    "\n",
    "print(df_train_last.head())\n",
    "print(df_test_last.head())"
   ]
  },
  {
   "cell_type": "markdown",
   "metadata": {
    "id": "0qcW2sIWqXYf"
   },
   "source": [
    "## Train ve Validation gruplarına ayrıma"
   ]
  },
  {
   "cell_type": "code",
   "execution_count": 18,
   "metadata": {
    "colab": {
     "base_uri": "https://localhost:8080/"
    },
    "collapsed": true,
    "executionInfo": {
     "elapsed": 8,
     "status": "ok",
     "timestamp": 1748701137619,
     "user": {
      "displayName": "Alihan Akkus",
      "userId": "17021158369776552054"
     },
     "user_tz": -180
    },
    "id": "1ySE9bGGdaDs",
    "outputId": "d2e3c121-e9fc-4586-df68-d896e619ee15"
   },
   "outputs": [
    {
     "name": "stdout",
     "output_type": "stream",
     "text": [
      "Train set boyutu: (711, 21)\n",
      "Validation set boyutu: (178, 21)\n"
     ]
    }
   ],
   "source": [
    "X=df_train_last.drop(['Survived','Cabin_T'],axis=1)\n",
    "Y=df_train_last['Survived']\n",
    "\n",
    "from sklearn.model_selection import train_test_split\n",
    "\n",
    "X_tr, X_val, y_tr, y_val = train_test_split(\n",
    "    X, Y,\n",
    "    test_size=0.2,     #%80 train, %20 validation\n",
    "    random_state=42,\n",
    "    stratify=Y\n",
    ")\n",
    "\n",
    "print(\"Train set boyutu:\", X_tr.shape)\n",
    "print(\"Validation set boyutu:\", X_val.shape)\n"
   ]
  },
  {
   "cell_type": "markdown",
   "metadata": {
    "id": "g_ebufgLONfe"
   },
   "source": [
    "#Model"
   ]
  },
  {
   "cell_type": "markdown",
   "metadata": {
    "id": "jkUeV6GbPF1p"
   },
   "source": [
    "###Random forset"
   ]
  },
  {
   "cell_type": "code",
   "execution_count": 19,
   "metadata": {
    "colab": {
     "base_uri": "https://localhost:8080/"
    },
    "collapsed": true,
    "executionInfo": {
     "elapsed": 781,
     "status": "ok",
     "timestamp": 1748701138401,
     "user": {
      "displayName": "Alihan Akkus",
      "userId": "17021158369776552054"
     },
     "user_tz": -180
    },
    "id": "6boIFpjaQSja",
    "outputId": "850ce9a6-ba15-466b-c923-ae429a00b3f4"
   },
   "outputs": [
    {
     "name": "stdout",
     "output_type": "stream",
     "text": [
      "🎯 Random Forest Accuracy: 0.7640449438202247\n",
      "              precision    recall  f1-score   support\n",
      "\n",
      "           0       0.81      0.81      0.81       110\n",
      "           1       0.69      0.69      0.69        68\n",
      "\n",
      "    accuracy                           0.76       178\n",
      "   macro avg       0.75      0.75      0.75       178\n",
      "weighted avg       0.76      0.76      0.76       178\n",
      "\n"
     ]
    }
   ],
   "source": [
    "from sklearn.ensemble import RandomForestClassifier\n",
    "from sklearn.metrics import accuracy_score, classification_report\n",
    "\n",
    "# Modeli oluştur\n",
    "rf_model = RandomForestClassifier(n_estimators=100, random_state=42)\n",
    "\n",
    "# Eğit\n",
    "rf_model.fit(X_tr ,y_tr)\n",
    "\n",
    "# Tahmin\n",
    "y_pred_rf = rf_model.predict(X_val)\n",
    "\n",
    "# Sonuçları değerlendir\n",
    "print(\"🎯 Random Forest Accuracy:\", accuracy_score(y_val, y_pred_rf))\n",
    "print(classification_report(y_val, y_pred_rf))\n"
   ]
  },
  {
   "cell_type": "code",
   "execution_count": 20,
   "metadata": {
    "colab": {
     "base_uri": "https://localhost:8080/"
    },
    "collapsed": true,
    "executionInfo": {
     "elapsed": 226,
     "status": "ok",
     "timestamp": 1748701138629,
     "user": {
      "displayName": "Alihan Akkus",
      "userId": "17021158369776552054"
     },
     "user_tz": -180
    },
    "id": "Zh1v_rzXf4EJ",
    "outputId": "2d2285da-42d2-4956-b614-94efc78fa586"
   },
   "outputs": [
    {
     "name": "stdout",
     "output_type": "stream",
     "text": [
      "🎯 Random Forest Accuracy: 0.7921348314606742\n",
      "              precision    recall  f1-score   support\n",
      "\n",
      "           0       0.81      0.87      0.84       110\n",
      "           1       0.76      0.66      0.71        68\n",
      "\n",
      "    accuracy                           0.79       178\n",
      "   macro avg       0.78      0.77      0.77       178\n",
      "weighted avg       0.79      0.79      0.79       178\n",
      "\n"
     ]
    }
   ],
   "source": [
    "rf_model2 = RandomForestClassifier(n_estimators=70, max_depth=7, random_state=32)\n",
    "rf_model2.fit(X_tr ,y_tr)\n",
    "\n",
    "# Tahmin\n",
    "y_pred_rf2 = rf_model2.predict(X_val)\n",
    "\n",
    "# Sonuçları değerlendir\n",
    "print(\"🎯 Random Forest Accuracy:\", accuracy_score(y_val, y_pred_rf2))\n",
    "print(classification_report(y_val, y_pred_rf2))"
   ]
  },
  {
   "cell_type": "markdown",
   "metadata": {
    "id": "zDuPta6CRMoB"
   },
   "source": [
    "###Xgboost"
   ]
  },
  {
   "cell_type": "code",
   "execution_count": 21,
   "metadata": {
    "colab": {
     "base_uri": "https://localhost:8080/"
    },
    "collapsed": true,
    "executionInfo": {
     "elapsed": 842,
     "status": "ok",
     "timestamp": 1748701139473,
     "user": {
      "displayName": "Alihan Akkus",
      "userId": "17021158369776552054"
     },
     "user_tz": -180
    },
    "id": "NGAiVpCDf4Bc",
    "outputId": "670f6a31-98c5-4a28-aaca-38c17f570a09"
   },
   "outputs": [
    {
     "name": "stdout",
     "output_type": "stream",
     "text": [
      "🎯 XGBoost Accuracy: 0.7808988764044944\n",
      "              precision    recall  f1-score   support\n",
      "\n",
      "           0       0.80      0.86      0.83       110\n",
      "           1       0.75      0.65      0.69        68\n",
      "\n",
      "    accuracy                           0.78       178\n",
      "   macro avg       0.77      0.76      0.76       178\n",
      "weighted avg       0.78      0.78      0.78       178\n",
      "\n"
     ]
    }
   ],
   "source": [
    "import xgboost as xgb\n",
    "xgb_model = xgb.XGBClassifier(random_state=16, eval_metric='mlogloss')\n",
    "\n",
    "# Modeli eğitiyoruz\n",
    "xgb_model.fit(X_tr,y_tr)\n",
    "\n",
    "# tahmin yapıyoruz\n",
    "y_pred_xgb = xgb_model.predict(X_val)\n",
    "\n",
    "# Sonuçları değerlendiriyoruz\n",
    "print(\"🎯 XGBoost Accuracy:\", accuracy_score(y_val, y_pred_xgb))\n",
    "print(classification_report(y_val, y_pred_xgb))\n"
   ]
  },
  {
   "cell_type": "markdown",
   "metadata": {
    "id": "wcZT6ganaPnr"
   },
   "source": [
    "##GridSearch"
   ]
  },
  {
   "cell_type": "code",
   "execution_count": 22,
   "metadata": {
    "colab": {
     "base_uri": "https://localhost:8080/"
    },
    "executionInfo": {
     "elapsed": 122092,
     "status": "ok",
     "timestamp": 1748701261565,
     "user": {
      "displayName": "Alihan Akkus",
      "userId": "17021158369776552054"
     },
     "user_tz": -180
    },
    "id": "SxFvwDIlf3-8",
    "outputId": "0c5c84eb-2df2-4627-a899-be98dfed22c7"
   },
   "outputs": [
    {
     "name": "stdout",
     "output_type": "stream",
     "text": [
      "Fitting 5 folds for each of 81 candidates, totalling 405 fits\n",
      "Fitting 5 folds for each of 108 candidates, totalling 540 fits\n",
      "Best parameters for Random Forest: {'max_depth': 15, 'min_samples_leaf': 2, 'min_samples_split': 2, 'n_estimators': 50}\n",
      "Best parameters for XGBoost: {'colsample_bytree': 0.8, 'learning_rate': 0.01, 'max_depth': 10, 'n_estimators': 100, 'subsample': 1}\n"
     ]
    }
   ],
   "source": [
    "# Random Forest için parametre  gridini oluştur\n",
    "rf_param_grid = {\n",
    "    'n_estimators': [50, 100, 200],\n",
    "    'max_depth': [5, 10, 15],\n",
    "    'min_samples_split': [2, 5, 10],\n",
    "    'min_samples_leaf': [1, 2, 5]\n",
    "}\n",
    "\n",
    "# XGBoost için parametre gridini oluştur\n",
    "xgb_param_grid = {\n",
    "    'learning_rate': [0.01, 0.1, 0.2],\n",
    "    'n_estimators': [50, 100, 200],\n",
    "    'max_depth': [3, 6, 10],\n",
    "    'subsample': [0.8, 1],\n",
    "    'colsample_bytree': [0.8, 1]\n",
    "}\n",
    "\n",
    "# Random Forest modelini tanımla\n",
    "rf_model = RandomForestClassifier(random_state=42)\n",
    "\n",
    "# XGBoost modelini tanımla\n",
    "xgb_model = xgb.XGBClassifier(random_state=42)\n",
    "\n",
    "# Random Forest için GridSearchCV\n",
    "rf_grid_search = GridSearchCV(estimator=rf_model, param_grid=rf_param_grid, cv=5, n_jobs=-1, verbose=2)\n",
    "rf_grid_search.fit(X_tr, y_tr)\n",
    "\n",
    "# XGBoost için GridSearchCV\n",
    "xgb_grid_search = GridSearchCV(estimator=xgb_model, param_grid=xgb_param_grid, cv=5, n_jobs=-1, verbose=2)\n",
    "xgb_grid_search.fit(X_tr, y_tr)\n",
    "\n",
    "# En iyi parametreler\n",
    "print(f\"Best parameters for Random Forest: {rf_grid_search.best_params_}\")\n",
    "print(f\"Best parameters for XGBoost: {xgb_grid_search.best_params_}\")\n"
   ]
  },
  {
   "cell_type": "code",
   "execution_count": 23,
   "metadata": {
    "colab": {
     "base_uri": "https://localhost:8080/"
    },
    "collapsed": true,
    "executionInfo": {
     "elapsed": 70,
     "status": "ok",
     "timestamp": 1748701261633,
     "user": {
      "displayName": "Alihan Akkus",
      "userId": "17021158369776552054"
     },
     "user_tz": -180
    },
    "id": "BRvd3fvaf38M",
    "outputId": "28dac8ee-be23-4a3a-dad9-8348d1e45aeb"
   },
   "outputs": [
    {
     "name": "stdout",
     "output_type": "stream",
     "text": [
      "🎯 Random Forest Accuracy: 0.797752808988764\n",
      "🎯 XGBoost Accuracy: 0.7752808988764045\n",
      "🎯 Random Forest Classification Report:\n",
      "               precision    recall  f1-score   support\n",
      "\n",
      "           0       0.81      0.87      0.84       110\n",
      "           1       0.77      0.68      0.72        68\n",
      "\n",
      "    accuracy                           0.80       178\n",
      "   macro avg       0.79      0.77      0.78       178\n",
      "weighted avg       0.80      0.80      0.79       178\n",
      "\n",
      "🎯 XGBoost Classification Report:\n",
      "               precision    recall  f1-score   support\n",
      "\n",
      "           0       0.78      0.88      0.83       110\n",
      "           1       0.76      0.60      0.67        68\n",
      "\n",
      "    accuracy                           0.78       178\n",
      "   macro avg       0.77      0.74      0.75       178\n",
      "weighted avg       0.77      0.78      0.77       178\n",
      "\n"
     ]
    }
   ],
   "source": [
    "# En iyi modellerin değerlendirmeleri\n",
    "rf_best_model = rf_grid_search.best_estimator_\n",
    "xgb_best_model = xgb_grid_search.best_estimator_\n",
    "\n",
    "# Tahmin\n",
    "y_pred_rf = rf_best_model.predict(X_val)\n",
    "y_pred_xgb = xgb_best_model.predict(X_val)\n",
    "\n",
    "# Sonuçları değerlendir\n",
    "print(\"🎯 Random Forest Accuracy:\", accuracy_score(y_val, y_pred_rf))\n",
    "print(\"🎯 XGBoost Accuracy:\", accuracy_score(y_val, y_pred_xgb))\n",
    "\n",
    "print(\"🎯 Random Forest Classification Report:\\n\", classification_report(y_val, y_pred_rf))\n",
    "print(\"🎯 XGBoost Classification Report:\\n\", classification_report(y_val, y_pred_xgb))"
   ]
  },
  {
   "cell_type": "markdown",
   "metadata": {
    "id": "pkXKDqj3s2XO"
   },
   "source": [
    "# Kaggle Yükleme Hazırlıkları\n",
    "\n",
    " Bu bölümde Yaptığım bu modeli kaggl verdiği test verileri ile tahmin ettirip bunları bir csv dosyasına aktarma işlemleri dir."
   ]
  },
  {
   "cell_type": "code",
   "execution_count": 24,
   "metadata": {
    "executionInfo": {
     "elapsed": 12,
     "status": "ok",
     "timestamp": 1748701261648,
     "user": {
      "displayName": "Alihan Akkus",
      "userId": "17021158369776552054"
     },
     "user_tz": -180
    },
    "id": "D7-G1jWjf32w"
   },
   "outputs": [],
   "source": [
    "y_pred_rf_orj =rf_best_model.predict(df_test_last)\n",
    "\n",
    "submission = pd.DataFrame({\n",
    "    'PassengerId': passenger_ids,\n",
    "    'Survived': y_pred_rf_orj\n",
    "})\n",
    "\n",
    "# CSV olarak kaydet\n",
    "submission.to_csv('submission.csv', index=False)\n"
   ]
  },
  {
   "cell_type": "markdown",
   "metadata": {
    "id": "8NUwRh2UtL6Z"
   },
   "source": [
    "# Sonuç"
   ]
  },
  {
   "cell_type": "markdown",
   "metadata": {
    "id": "M_WmSilltQRz"
   },
   "source": [
    "Bu çalışmada sınıflandırma problemi üzerinde Random Forest ve XGBoost algoritmaları uygulanmış, modellerin hem varsayılan hem de hiperparametre optimizasyonu (GridSearchCV) sonrası performansları analiz edilmiştir.\n",
    "\n",
    "## Varsayılan Model Performansları\n",
    "Random Forest: %79.21 doğruluk oranı ile başlangıçta güçlü bir performans sergilemiştir. Sınıf 0 için precision %81, recall %87 ve f1-score %84 iken, sınıf 1 için bu değerler %76, %66 ve %71 olarak gözlemlenmiştir.\n",
    "\n",
    "XGBoost: %78.09 doğruluk ile Random Forest’a yakın bir performans göstermiştir. Sınıf 0’da precision %80, recall %86, f1-score %83; sınıf 1’de ise precision %75, recall %65 ve f1-score %69 olarak elde edilmiştir.\n",
    "\n",
    "Her iki model de sınıf 0 için yüksek başarı göstermiş ancak sınıf 1’lerde özellikle recall skorlarında düşüş gözlemlenmiştir. Bu, sınıflar arası dengesizlik veya sınıf 1’in daha zor ayırt edilebilmesi ile açıklanabilir.\n",
    "\n",
    "##GridSearchCV Sonrası İyileştirilmiş Performanslar\n",
    "Hiperparametre optimizasyonu sonrasında her iki modelde de sınırlı ama anlamlı performans artışları elde edilmiştir.\n",
    "\n",
    "Random Forest (GridSearch sonrası) doğruluğunu %79.77’ye yükseltmiş ve sınıf 1 için recall değerini %68’e çıkarmıştır. F1-score da %72’ye yükselmiştir. Bu, modelin sınıf 1’i tanıma konusundaki başarısının arttığını göstermektedir.\n",
    "\n",
    "XGBoost (GridSearch sonrası) doğruluğu %77.53 olarak gerçekleşmiştir. Ancak sınıf 1 için recall değeri %60 ile düşük kalmıştır. F1-score da %67 ile Random Forest’ın gerisindedir. Bu durum, XGBoost’un optimizasyon sonrası sınıf 1’lerde Random Forest’a kıyasla daha düşük başarı sergilediğini göstermektedir.\n",
    "\n",
    "##Genel Değerlendirme\n",
    "GridSearch sonrası elde edilen sonuçlar, Random Forest modelinin genel olarak daha istikrarlı ve dengeli performans sergilediğini ortaya koymaktadır. XGBoost modeli sınıf 0 için yüksek doğruluk sunsa da, sınıf 1’i tanıma performansı Random Forest’a kıyasla daha zayıf kalmıştır.\n",
    "\n",
    "Sonuç olarak, bu sınıflandırma probleminde Random Forest algoritması, özellikle sınıf dengesizliğinin etkili olduğu durumlarda, XGBoost’a göre daha uygun bir seçenek olarak öne çıkmaktadır. Model başarısını daha da artırmak için ileri düzey özellik mühendisliği, sınıf dengesini iyileştirici yöntemler (örneğin SMOTE, Class Weight ayarı) ve model toplulukları (ensemble) gibi yaklaşımlar gelecekteki çalışmalar için önerilmektedir."
   ]
  }
 ],
 "metadata": {
  "colab": {
   "collapsed_sections": [
    "dzBBA-KFoxF9",
    "3Gx3_FFlez-Z",
    "UIAUUuxGpgMn",
    "fXIb_7ger2LO",
    "4MseygY4e35z",
    "wcRbtGXUsWOO",
    "_--2QCRRuoDt",
    "n5NUWRBBrfY9",
    "0qcW2sIWqXYf"
   ],
   "provenance": [
    {
     "file_id": "/v2/external/notebooks/intro.ipynb",
     "timestamp": 1744398541335
    }
   ],
   "toc_visible": true
  },
  "kernelspec": {
   "display_name": "Python 3",
   "name": "python3"
  }
 },
 "nbformat": 4,
 "nbformat_minor": 0
}
